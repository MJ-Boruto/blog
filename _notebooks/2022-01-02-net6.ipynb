{
 "cells": [
  {
   "cell_type": "markdown",
   "id": "085485c6",
   "metadata": {},
   "source": [
    "# Link Layer\n",
    "> notes for Ch6 of Computer Networks by NCCU MIS\n",
    "- toc: true\n",
    "- categories: [NCCU, MIS, conputer networks]\n",
    "- image: images/networking.jpg\n",
    "- hide_binder_badge: true"
   ]
  },
  {
   "cell_type": "markdown",
   "id": "85be5286",
   "metadata": {},
   "source": [
    "- link layer implemented in \"adaptor\" (aka network interface card NIC) or on a chip\n",
    "\n",
    "## Dynamic Host Configuration Protocol (DHCP)\n",
    "\n",
    "## multiple access protocols\n",
    "#### Cyclic redundancy check (CRC)\n",
    "\n",
    "#### Carrier Sense Multiple Access (CSMA)\n",
    "- listen before transmit\n",
    "- binary (exponential) backoff: wait \"**K** * 512 bit / R bps\" sec\n",
    "- K: In the mth collision, choose a random K from {0~2<sup>m</sup>-1}.\n",
    "\n",
    "|CSMA   |short for          |used in\n",
    "|:-     |:-                 |:-\n",
    "|CSMA/CD|collision detection|Ethernet\n",
    "|CSMA/CA|collision avoidance|WiFi\n",
    "\n",
    "> Note: All CRC calculations are done in modulo-2 arithmetic without carries in addition or borrows in subtraction. This means that addition and subtraction are identical, and both are equivalent to the bitwise exclusive-or (XOR) of the operands."
   ]
  },
  {
   "cell_type": "markdown",
   "id": "d75200cc",
   "metadata": {},
   "source": [
    "## LAN addresses and ARP\n",
    "- No hierarchical structure\n",
    "- MAC/LAN/Ethernet address\n",
    "\n",
    "|area|name|bit|dist.|maximum\n",
    "|  -:|:-  |:- |   -:|:-\n",
    "|WAN |IPv4|32 |8x4  |255.255.255.255\n",
    "|WAN |IPv6|128|16x8 |ffff:ffff:ffff:ffff:ffff:ffff:ffff:ffff\n",
    "|LAN |MAC |48 |8x6  |FF-FF-FF-FF-FF-FF\n",
    "\n",
    "#### Address Resolution Protocol (ARP)\n",
    "- IP/MAC addresses mapping"
   ]
  },
  {
   "cell_type": "markdown",
   "id": "6e45da80",
   "metadata": {},
   "source": [
    "## Ethernet\n",
    "||\n",
    "|:-|:-\n",
    "|bus| popular through mid 90s\n",
    "|star| prevails today\n",
    "\n",
    "- preamble: 10101011\n",
    "- frame: | preamble | DA | SA | type | data(payload) | CRC |\n",
    "- MAC protocol: unslotted CSMA/CD with binary backoff\n",
    "\n",
    "#### switch\n",
    "||\n",
    "|:-|:-\n",
    "|L3|Router\n",
    "|L2|Switch\n",
    "|L2|Bridge \n",
    "\n",
    " "
   ]
  },
  {
   "cell_type": "markdown",
   "id": "621560ad",
   "metadata": {},
   "source": [
    "## definitions\n",
    "|MAC                    |type    |function\n",
    "|:-                     |:-      |:-\n",
    "|Media Access Control   |address |used in frame header to identify src. & dest.\n",
    "|Multiple Access Control|protocol|a set of protocols operating in the *Medium Access Control* sublayer\n",
    "\n",
    "- CRC: Cyclic redundancy check\n",
    "- EDC: Error Detection and Correction bits (redundancy)"
   ]
  },
  {
   "cell_type": "markdown",
   "id": "aa2ab5fa",
   "metadata": {},
   "source": [
    "## Questionnaire:\n",
    "\n",
    "\n",
    "## Google:\n",
    "- WiFi-6\n",
    "\n",
    "## Try:\n",
    "- arp -a"
   ]
  }
 ],
 "metadata": {
  "kernelspec": {
   "display_name": "Python 3 (ipykernel)",
   "language": "python",
   "name": "python3"
  },
  "language_info": {
   "codemirror_mode": {
    "name": "ipython",
    "version": 3
   },
   "file_extension": ".py",
   "mimetype": "text/x-python",
   "name": "python",
   "nbconvert_exporter": "python",
   "pygments_lexer": "ipython3",
   "version": "3.10.0"
  }
 },
 "nbformat": 4,
 "nbformat_minor": 5
}
