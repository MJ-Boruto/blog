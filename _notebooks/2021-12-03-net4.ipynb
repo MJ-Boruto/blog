{
 "cells": [
  {
   "cell_type": "markdown",
   "id": "085485c6",
   "metadata": {},
   "source": [
    "# Network Layer\n",
    "> notes for Ch4 of Computer Networks by NCCU MIS\n",
    "- toc: true\n",
    "- comments: true\n",
    "- categories: [NCCU, MIS, conputer networks]\n",
    "- image: images/networking.jpg\n",
    "- hide_binder_badge: true"
   ]
  },
  {
   "cell_type": "markdown",
   "id": "abe75543",
   "metadata": {},
   "source": [
    "|Plane        |scale        |function  |determines\n",
    "|:-           |:-           |:-        |:-\n",
    "|Data plane   |per-router   |forwarding|how to move datagram from input to output port\n",
    "|Control plane|among routers|routing   |route taken by packets from source to destination"
   ]
  },
  {
   "cell_type": "markdown",
   "id": "23f8881f",
   "metadata": {},
   "source": [
    "# Data Plane\n",
    "- how a router works\n",
    "- generalized forwarding\n",
    "- instantiation, implementation in the Internet\n",
    "\n",
    "> Note: \n",
    "\n",
    "# Control Plane\n",
    "1. traditional routing algorithms: implemented in routers\n",
    "2. *software-defined networking (SDN): implemented in (remote) servers"
   ]
  },
  {
   "cell_type": "markdown",
   "id": "aa2ab5fa",
   "metadata": {},
   "source": [
    "## Questionnaire:\n",
    "## Google:\n",
    "- cisco router\n",
    "- TCP RFC, IP RFC"
   ]
  }
 ],
 "metadata": {
  "kernelspec": {
   "display_name": "Python 3 (ipykernel)",
   "language": "python",
   "name": "python3"
  },
  "language_info": {
   "codemirror_mode": {
    "name": "ipython",
    "version": 3
   },
   "file_extension": ".py",
   "mimetype": "text/x-python",
   "name": "python",
   "nbconvert_exporter": "python",
   "pygments_lexer": "ipython3",
   "version": "3.10.0"
  }
 },
 "nbformat": 4,
 "nbformat_minor": 5
}
