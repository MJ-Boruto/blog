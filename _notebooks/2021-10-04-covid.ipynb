{
 "cells": [
  {
   "cell_type": "markdown",
   "id": "085485c6",
   "metadata": {},
   "source": [
    "# Long Covid - An Overview\n",
    "> my news presentation in NCCU\n",
    "- toc: true\n",
    "- comments: true\n",
    "- categories: [covid, NCCU]\n",
    "- image: images/covid.jpg"
   ]
  },
  {
   "cell_type": "markdown",
   "id": "ab1c31bc",
   "metadata": {},
   "source": []
  },
  {
   "cell_type": "markdown",
   "id": "f730563f",
   "metadata": {},
   "source": []
  },
  {
   "cell_type": "markdown",
   "id": "e95d09b1",
   "metadata": {},
   "source": []
  },
  {
   "cell_type": "markdown",
   "id": "c36323c9",
   "metadata": {},
   "source": []
  }
 ],
 "metadata": {
  "kernelspec": {
   "display_name": "Python 3",
   "language": "python",
   "name": "python3"
  },
  "language_info": {
   "codemirror_mode": {
    "name": "ipython",
    "version": 3
   },
   "file_extension": ".py",
   "mimetype": "text/x-python",
   "name": "python",
   "nbconvert_exporter": "python",
   "pygments_lexer": "ipython3",
   "version": "3.9.6"
  }
 },
 "nbformat": 4,
 "nbformat_minor": 5
}
