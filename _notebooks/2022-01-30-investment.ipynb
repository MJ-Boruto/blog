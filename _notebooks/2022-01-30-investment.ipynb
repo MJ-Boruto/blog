{
 "cells": [
  {
   "cell_type": "markdown",
   "id": "085485c6",
   "metadata": {},
   "source": [
    "# 《Investment Philosophies》notes\n",
    "> I read; I forgot;I took notes\n",
    "- toc: true\n",
    "- categories: [finance]\n",
    "- image: images/investment.jpg\n",
    "- hide_binder_badge: true"
   ]
  }
 ],
 "metadata": {
  "kernelspec": {
   "display_name": "Python 3 (ipykernel)",
   "language": "python",
   "name": "python3"
  },
  "language_info": {
   "codemirror_mode": {
    "name": "ipython",
    "version": 3
   },
   "file_extension": ".py",
   "mimetype": "text/x-python",
   "name": "python",
   "nbconvert_exporter": "python",
   "pygments_lexer": "ipython3",
   "version": "3.10.0"
  }
 },
 "nbformat": 4,
 "nbformat_minor": 5
}
