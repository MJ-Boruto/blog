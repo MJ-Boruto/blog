{
 "cells": [
  {
   "cell_type": "markdown",
   "metadata": {
    "id": "EILK5TL8q9BW"
   },
   "source": [
    "# Testing\n",
    "> A test of fastpages for Jupyter notebooks.\n",
    "\n",
    "- badges: true\n",
    "- comments: true\n",
    "- categories: [fastai]\n",
    "- image: images/chart-preview.png"
   ]
  }
 ],
 "metadata": {
  "colab": {
   "authorship_tag": "ABX9TyMivBdmeYKGa/NLoC07NfRL",
   "collapsed_sections": [],
   "name": "2021-07-17-first-blog.ipynb",
   "provenance": []
  },
  "kernelspec": {
   "display_name": "Python 3",
   "language": "python",
   "name": "python3"
  },
  "language_info": {
   "codemirror_mode": {
    "name": "ipython",
    "version": 3
   },
   "file_extension": ".py",
   "mimetype": "text/x-python",
   "name": "python",
   "nbconvert_exporter": "python",
   "pygments_lexer": "ipython3",
   "version": "3.9.6"
  }
 },
 "nbformat": 4,
 "nbformat_minor": 1
}
