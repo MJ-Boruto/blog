{
 "cells": [
  {
   "cell_type": "markdown",
   "id": "4c950cc0",
   "metadata": {
    "id": "8a3622fa"
   },
   "source": [
    "# Git & GitHub\n",
    "> CS50W Lecture 1 Notes\n",
    "\n",
    "- categories: [Git, CS50W]\n",
    "- image: images/git.png"
   ]
  },
  {
   "cell_type": "markdown",
   "id": "c1ca9521",
   "metadata": {},
   "source": [
    "> youtube: https://youtu.be/NcoBAfJ6l2Q"
   ]
  },
  {
   "cell_type": "markdown",
   "id": "ff0f2faa",
   "metadata": {},
   "source": [
    "## Summary\n",
    "\n",
    "Git has given us the ability to keep track of any changes we make to code and to work with other people on it such that we can be working on multiple parts of the same project, and someone else working on the same project can also be working on multiple parts of the same project on different branches."
   ]
  },
  {
   "cell_type": "markdown",
   "id": "2208532f",
   "metadata": {},
   "source": [
    "## Git bash basic commands\n",
    "    git clone https://github.com/bollam1214/blog.git\n",
    "    git status\n",
    "    git commit -am \"message\" //add all the files that has been changed in this directory and commit\n",
    "    git add file_name\n",
    "    git commit --amend (--no-edit) //update\n",
    "    git push\n",
    "\n",
    "    git log\n",
    "    git reset\n",
    "    git reset --hard <commmit>\n",
    "    git reset --hard origin/master\n",
    "\n",
    "    git pull\n",
    "## Branching \n",
    "    git branch\n",
    "    git checkout -b new_branch_name\n",
    "    git checkout branch_name\n",
    "    git merge branch_name\n",
    "## Merge Conflicts\n",
    "1. get rid of the commit markers\n",
    "2. modify the file\n",
    "3. commit and push"
   ]
  },
  {
   "cell_type": "markdown",
   "id": "648a175f",
   "metadata": {},
   "source": [
    "## GitHub Pages\n",
    "Repository name: user_name.github.io"
   ]
  },
  {
   "cell_type": "markdown",
   "id": "cb9ee91c",
   "metadata": {},
   "source": [
    "## Vim\n",
    "\n",
    "1. You start in “normal mode”\n",
    "2. `i` brings you to “insert mode”\n",
    "3. `esc` brings you back to “normal mode”\n",
    "4. `:x` equals `:wq` (`:w` save / `:q` exit)"
   ]
  }
 ],
 "metadata": {
  "colab": {
   "name": "2021-07-18-myth.ipynb",
   "provenance": []
  },
  "kernelspec": {
   "display_name": "Python 3",
   "language": "python",
   "name": "python3"
  },
  "language_info": {
   "codemirror_mode": {
    "name": "ipython",
    "version": 3
   },
   "file_extension": ".py",
   "mimetype": "text/x-python",
   "name": "python",
   "nbconvert_exporter": "python",
   "pygments_lexer": "ipython3",
   "version": "3.9.6"
  }
 },
 "nbformat": 4,
 "nbformat_minor": 5
}
