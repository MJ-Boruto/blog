{
  "nbformat": 4,
  "nbformat_minor": 0,
  "metadata": {
    "colab": {
      "name": "2021-07-17-first-blog.ipynb",
      "provenance": [],
      "collapsed_sections": [],
      "authorship_tag": "ABX9TyMivBdmeYKGa/NLoC07NfRL"
    },
    "kernelspec": {
      "name": "python3",
      "display_name": "Python 3"
    },
    "language_info": {
      "name": "python"
    }
  },
  "cells": [
    {
      "cell_type": "markdown",
      "metadata": {
        "id": "EILK5TL8q9BW"
      },
      "source": [
        "# Testing\n",
        "> A test of fastpages for Jupyter notebooks.\n",
        "\n",
        "- badges: true\n",
        "- comments: true\n",
        "- categories: [fastai]\n",
        "- image: images/chart-preview.png"
      ]
    }
  ]
}