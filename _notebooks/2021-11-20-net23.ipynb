{
 "cells": [
  {
   "cell_type": "markdown",
   "id": "085485c6",
   "metadata": {},
   "source": [
    "# Application Layer & Transport Layer\n",
    "> notes for Ch2&3 of Computer Networks by NCCU MIS\n",
    "- toc: true\n",
    "- categories: [NCCU, MIS, conputer networks]\n",
    "- image: images/networking.jpg\n",
    "- hide_binder_badge: true"
   ]
  },
  {
   "cell_type": "markdown",
   "id": "23f8881f",
   "metadata": {},
   "source": [
    "# Ch2 Application Layer\n",
    "- 了解相關概念及用詞，特別是Protocols\n",
    "- 兩個App之間的溝通要怎麼設計、第四層(TCP/UDP)大概提供什麼服務。"
   ]
  },
  {
   "cell_type": "markdown",
   "id": "481c9b91",
   "metadata": {},
   "source": [
    "## 2.1 principles of network applications\n",
    "### Sockets\n",
    "- process: program running within a host\n",
    "- Inter-Process Communication (IPC) e.g. file system, shared memory, /proc(Linux的功能)\n",
    "- process sends/receives messages to/from its **socket**\n",
    "- Identifier: **IP address**(2^32) and **port numbers**(2^16)\n",
    "\n",
    "### L7 protocol defines\n",
    "- types of messages exchanged e.g. request, response\n",
    "- message syntax, semantics\n",
    "- rules for when and how processes send & respond to messages\n",
    "- error/exception handling\n",
    "#### L4 service helps:\n",
    "- data integrity (or not? e.g. audio)\n",
    "- low delay? e.g. gaming\n",
    "- minimum throughput required? e.g. online meeting(real-time), Netflix(stored)\n",
    "- security e.g. encryption\n",
    "- 平常：best-effort delivery, 互動性高：time sensitive, 持續時間長：minimum throughput required\n",
    "\n",
    "### L4 protocols services\n",
    "1. TCP service\n",
    "    - reliable data transfer\n",
    "    - connection-oriented: setup required between client and server\n",
    "    - flow / congestion control: sender won't **overwhelm receiver** / **overload network**\n",
    "    - does not do: \n",
    "        - timing\n",
    "        - minimum throughput\n",
    "        - security\n",
    "\n",
    "\n",
    "2. UDP service\n",
    "    - best-effort delivery\n",
    "    - does not do: \n",
    "        - connection setup\n",
    "        - reliability\n",
    "        - flow control\n",
    "        - congestion control\n",
    "        - timing\n",
    "        - minimum throughput\n",
    "        - security"
   ]
  },
  {
   "cell_type": "markdown",
   "id": "0b8b0b23",
   "metadata": {},
   "source": [
    "## 2.2 Web and HTTP\n",
    "\n",
    "> Note: only server uses TCP/80, client can use arbitraryTCP port\n",
    "\n",
    "> Note: parsing is not part of HTTP, it’s browser’s job.\n",
    "\n",
    "## 2.3 email\n",
    "- SMTP\n",
    "- POP\n",
    "- IMAP\n",
    "\n",
    "## 2.4 DNS\n",
    "### DNS records\n",
    "In database we call \"resource records\"(RR).\n",
    "\n",
    "## 2.5 P2P applications\n",
    "以前網路頻寬很小的時候，P2P很重要是因為它可以下載大量的(尤其是非法的)音樂和電影。"
   ]
  },
  {
   "cell_type": "markdown",
   "id": "b346f493",
   "metadata": {},
   "source": [
    "# Ch3 Transport Layer\n",
    "- transport layer設計理念\n",
    "    - (de)multiplexing\n",
    "    - reliable data transfer\n",
    "    - flow/congestion control\n",
    "- UDP、TCP\n",
    "- messages -> **segments** -> messages\n",
    "\n",
    "> Note: TCP UDP program是寫作業系統的人寫的\n",
    "\n",
    "## (de)multiplexing\n",
    "\n",
    "#### multiplex\n",
    "- (v.)incorporate into a *multiplex* signal or system\n",
    "- (adj.)involving simultaneous transmission of several messages along a single channel of communication.\n",
    "\n",
    "\n",
    "- for TCP, one socket (at the receiver) is identified by 4-tuple.\n",
    "- for UDP, one socket (at the receiver) is identified by dest IP + dest IP."
   ]
  },
  {
   "cell_type": "markdown",
   "id": "1f2e1513",
   "metadata": {},
   "source": [
    "## TCP\n",
    "- 效率提升的方法：pipeline, retransmition, ack num, timer -> 都是為了讓pipeline成形(不希望stop and wait)\n",
    "TCP特色：\n",
    "1. point to point (一個訊息要讓兩個人以上收到的時候是由其他protocol在處理這件事情)\n",
    "2. reliable, in-order byte stream\n",
    "3. pipelined: TCP congestion and flow control set window size\n",
    "4. duplex data: bi-directional data flow, MSS: maximum segment size\n",
    "5. connection-oriented: handshaking (exchange of control message) inits sender, receiver state before data exchange\n",
    "6. flow controlled: sender will not overwhelm receiver\n",
    "\n",
    "|control|implemented on|target\n",
    "|:-|:-|:-\n",
    "|flow control|sender|receiver\n",
    "|congestion control|sender|router"
   ]
  },
  {
   "cell_type": "markdown",
   "id": "15617ff4",
   "metadata": {},
   "source": [
    "### TCP header\n",
    "- port #: 0~65535\n",
    "- sequence/ack #: counting by byte of data\n",
    "- header length: unit: word(4byte) usually 5 words (32bits * 5 = 4 bytes * 5)\n",
    "- A: ack, R: reset, S: synchronize, F: finish (not used now: U:urgent, P:push)\n",
    "- receive window: # of bytes rcvr willing to accept\n",
    "\n",
    "> Note: length of payload described in L3 header\n",
    "\n",
    "TimeoutInterval = EstimatedRTT(moving average) + 4 std -> 99.994% safe\n"
   ]
  },
  {
   "cell_type": "markdown",
   "id": "aa2ab5fa",
   "metadata": {},
   "source": [
    "## Questionnaire:\n",
    "- L7:\n",
    "- How many IPv4 addresses in total? How many port numbers?\n",
    "- Why HTTP is text-based?\n",
    "- Why does server talk first in SMTP interaction?\n",
    "- L4:\n",
    "- What does \"connectionless\" mean?\n",
    "\n",
    "## Google:\n",
    "- L7:\n",
    "- best-effort delivery\n",
    "- Linux Lynx browser\n",
    "- multipart message\n",
    "- wiki: root name server\n",
    "- no-ip,GoDaddy, ICANN\n",
    "- L4:\n"
   ]
  }
 ],
 "metadata": {
  "kernelspec": {
   "display_name": "Python 3 (ipykernel)",
   "language": "python",
   "name": "python3"
  },
  "language_info": {
   "codemirror_mode": {
    "name": "ipython",
    "version": 3
   },
   "file_extension": ".py",
   "mimetype": "text/x-python",
   "name": "python",
   "nbconvert_exporter": "python",
   "pygments_lexer": "ipython3",
   "version": "3.10.0"
  }
 },
 "nbformat": 4,
 "nbformat_minor": 5
}
