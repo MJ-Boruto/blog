{
 "cells": [
  {
   "cell_type": "markdown",
   "id": "085485c6",
   "metadata": {},
   "source": [
    "# Part 1 Getting started\n",
    "> notes for《R in Action》\n",
    "- toc: true\n",
    "- comments: true\n",
    "- categories: [R, data science]\n",
    "- image: images/r.jpg"
   ]
  },
  {
   "cell_type": "markdown",
   "id": "aca41013",
   "metadata": {},
   "source": [
    "# Why use R?\n",
    "- Free\n",
    "- Any type of data analysis can be done in R\n",
    "- New methods available for download on weekly basis\n",
    "- The most comprehensive and powerful feature set to visualize complex data\n",
    "- interactive: results can be saved, manipulated, and used as input for other steps\n",
    "- easy to deal with a wide variety of sources\n",
    "- functionality can be integrated into applications written in other languages\n",
    "- runs on Windows, Unix, and Mac OS\n",
    "- a variety of GUIs are available"
   ]
  },
  {
   "cell_type": "markdown",
   "id": "58ab6e11",
   "metadata": {},
   "source": [
    "### Functions for help\n",
    "Function       | Action\n",
    ":--------------|:------\n",
    "help.start()   | General help with manuals, FAQs, and reference materials\n",
    "?foo           | Help on function foo\n",
    "??foo          | Searches the help system for instances of the string foo\n",
    "vignette()     | Lists all available vignettes (practical introductory articles in PDF format)\n",
    "vignette(\"foo\")| Displays specific vignettes for topic foo"
   ]
  },
  {
   "cell_type": "markdown",
   "id": "9881a129",
   "metadata": {},
   "source": [
    "### Functions for managing the R workspace\n",
    "Function            | Action\n",
    ":-------------------|:------\n",
    "getwd()             | Lists the current working directory.\n",
    "dir.create()        | Create a directory\n",
    "setwd(\"mydirectory\")| Changes the current working directory to mydirectory. (won’t create a directory if it doesn’t exist)\n",
    "ls()                | Lists the objects in the current workspace.\n",
    "rm(objectlist)      | Removes (deletes) one or more objects.\n",
    "help(options)       | Provides information about available options.\n",
    "options()           | Lets you view or set current options.\n",
    "q()                 | Quits R. You’ll be prompted to save the workspace.\n",
    "\n",
    "> Tip: Just double-click the saved image file, which starts R, loads the saved workspace, and sets this location as the current working directory."
   ]
  },
  {
   "cell_type": "markdown",
   "id": "f014cf23",
   "metadata": {},
   "source": [
    "### Functions for packages\n",
    "Function  | Action\n",
    ":---------|:------\n",
    "library() | packages you’ve saved in your library\n",
    "search()  | packages you’ve loaded and ready to use\n",
    "install.packages(\"foo\")| install package \"foo\"\n",
    "update.packages()      | update packages\n",
    "installed.packages()   | check out installed packages"
   ]
  },
  {
   "cell_type": "markdown",
   "id": "f772498b",
   "metadata": {},
   "source": [
    "### Special terms in R\n",
    "Term       | meaning\n",
    ":----------|:-------\n",
    "object     | anything that can be assigned to a variable, which has a *mode* and a *class*\n",
    "mode       | how the object is stored\n",
    "class      | how to handle it with functions like `print`\n",
    "data frame | similar to the dataset found in SAS, SPSS. columns = *variables*, rows = *observations*\n",
    "factor     | nominal or ordinal variables that are stored and treated specially in R"
   ]
  },
  {
   "cell_type": "markdown",
   "id": "b776ddd0",
   "metadata": {},
   "source": [
    "### Data structures\n",
    "**1. Vectors**\n",
    "\n",
    "```r\n",
    "a <- c(1, 2, 5, 3, 6, -2, 4)\n",
    "b <- c(\"one\", \"two\", \"three\")\n",
    "c <- c(TRUE, TRUE, TRUE, FALSE, TRUE, FALSE)\n",
    "\n",
    "> a <- c(\"k\", \"j\", \"h\", \"a\", \"c\", \"m\")\n",
    "> a[3]\n",
    "[1] \"h\"\n",
    "> a[c(1, 3, 5)]\n",
    "[1] \"k\" \"h\" \"c\"\n",
    "> a[2:6]\n",
    "[1] \"j\" \"h\" \"a\" \"c\" \"m\"\n",
    "```\n",
    "\n"
   ]
  }
 ],
 "metadata": {
  "kernelspec": {
   "display_name": "Python 3",
   "language": "python",
   "name": "python3"
  },
  "language_info": {
   "codemirror_mode": {
    "name": "ipython",
    "version": 3
   },
   "file_extension": ".py",
   "mimetype": "text/x-python",
   "name": "python",
   "nbconvert_exporter": "python",
   "pygments_lexer": "ipython3",
   "version": "3.9.6"
  }
 },
 "nbformat": 4,
 "nbformat_minor": 5
}
