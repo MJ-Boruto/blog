{
 "cells": [
  {
   "cell_type": "markdown",
   "id": "085485c6",
   "metadata": {},
   "source": [
    "# Application Layer\n",
    "> Ch2 notes of Computer Networks by NCCU MIS\n",
    "- toc: true\n",
    "- comments: true\n",
    "- categories: [NCCU, MIS, conputer networks]\n",
    "- image: images/networking.jpg\n",
    "- hide_binder_badge: true"
   ]
  },
  {
   "cell_type": "markdown",
   "id": "a7ffb756",
   "metadata": {},
   "source": [
    "> Note: if you are interested in early network and application, a novel “The Cuckoo‘s Egg” (捍衛網路) well describes them."
   ]
  },
  {
   "cell_type": "markdown",
   "id": "97ce335a",
   "metadata": {},
   "source": [
    "application architecture vs  network architecture"
   ]
  },
  {
   "cell_type": "markdown",
   "id": "097129fd",
   "metadata": {},
   "source": [
    "# Questionnaire\n",
    "- \n",
    "\n",
    "# Google:\n",
    "- Internet timeline: text-based -> www -> instant message -> P2P ->VoIP ->VOD, gamming, social network."
   ]
  }
 ],
 "metadata": {
  "kernelspec": {
   "display_name": "Python 3",
   "language": "python",
   "name": "python3"
  },
  "language_info": {
   "codemirror_mode": {
    "name": "ipython",
    "version": 3
   },
   "file_extension": ".py",
   "mimetype": "text/x-python",
   "name": "python",
   "nbconvert_exporter": "python",
   "pygments_lexer": "ipython3",
   "version": "3.9.6"
  }
 },
 "nbformat": 4,
 "nbformat_minor": 5
}
