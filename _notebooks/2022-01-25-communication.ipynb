{
 "cells": [
  {
   "cell_type": "markdown",
   "id": "085485c6",
   "metadata": {},
   "source": [
    "# 《深度溝通力》筆記\n",
    "> 職業規劃？先學溝通吧\n",
    "- toc: true\n",
    "- categories: [communication]\n",
    "- image: images/bitcoin.jpg\n",
    "- hide_binder_badge: true"
   ]
  },
  {
   "cell_type": "markdown",
   "id": "6fdfc298",
   "metadata": {},
   "source": [
    "## 原則"
   ]
  },
  {
   "cell_type": "markdown",
   "id": "f69633da",
   "metadata": {},
   "source": [
    "## 表達\n",
    "## 傾聽"
   ]
  },
  {
   "cell_type": "markdown",
   "id": "94c3f33d",
   "metadata": {},
   "source": [
    "## 面試"
   ]
  },
  {
   "cell_type": "markdown",
   "id": "46505a8c",
   "metadata": {},
   "source": [
    "## 與上司\n",
    "## 與同事\n",
    "## 與下屬"
   ]
  },
  {
   "cell_type": "markdown",
   "id": "cafedff1",
   "metadata": {},
   "source": [
    "## 談人性\n",
    "## 必須解決的問題"
   ]
  }
 ],
 "metadata": {
  "kernelspec": {
   "display_name": "Python 3 (ipykernel)",
   "language": "python",
   "name": "python3"
  },
  "language_info": {
   "codemirror_mode": {
    "name": "ipython",
    "version": 3
   },
   "file_extension": ".py",
   "mimetype": "text/x-python",
   "name": "python",
   "nbconvert_exporter": "python",
   "pygments_lexer": "ipython3",
   "version": "3.10.0"
  }
 },
 "nbformat": 4,
 "nbformat_minor": 5
}
