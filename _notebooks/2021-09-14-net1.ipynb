{
 "cells": [
  {
   "cell_type": "markdown",
   "id": "085485c6",
   "metadata": {},
   "source": [
    "# Computer Networks Week 1\n",
    "> notes for the course by NCCU MIS\n",
    "- toc: true\n",
    "- comments: true\n",
    "- categories: [NCCU, MIS, conputer networks]\n",
    "- image: images/networking.jpg"
   ]
  },
  {
   "cell_type": "markdown",
   "id": "481c9b91",
   "metadata": {},
   "source": [
    "# Why this course?\n",
    "Computer network is an essential **enabling technology** to help users to develop network based applications that can **reach everywhere instantly**.\n",
    "An MIS student (as an architect, and a designer) need to be familiar with **the underlying technologies** and their **design rationale**. Hence, we can develop network applications with **a more appropriate, reasonable, and robust design**.\n",
    "    \n",
    "And more, help your parents to deal with home network problems."
   ]
  },
  {
   "cell_type": "markdown",
   "id": "70ab659c",
   "metadata": {},
   "source": [
    "# Desired Outcomes\n",
    "- They know the most common **design** in the current computer network.\n",
    "- They understand what **hardware** or **software** should be used in a complex computer network.\n",
    "- They can analyze the **performance** of a protocol, both theoretically and experimentally, and recognize the **trade-offs** between different protocol designs.\n",
    "- They can write **socket programs** with network libraries.\n",
    "- They have experience **working with network devices**.\n",
    "- They can **manage** a complex enterprise network.\n",
    "- They can **monitor** the network packet and analyze them.\n",
    "- They can identify **network security problems** and solve them."
   ]
  },
  {
   "cell_type": "markdown",
   "id": "151c26ee",
   "metadata": {},
   "source": [
    "> warning: We will NOT cover any programming details. Homework, assignments, and projects need a certain level of programming skills"
   ]
  },
  {
   "cell_type": "markdown",
   "id": "76efc540",
   "metadata": {},
   "source": [
    "# What can computer network do?\n",
    "#### Examples: Enterprise network\n",
    "* Daily operation\n",
    "    * PCs, access network, e-mail server, web site, Wi-Fi, VoIP, wireless projector, database server, file server, firewall, (virtual and physical) access control, directory service,…\n",
    "* Business\n",
    "    * Game: PC/App, response time, synchronization, flexible (scaling) server, in-game VoIP, streaming, re-join,…\n",
    "    * Digital currency exchange: total number of users, new user per second, denial of service, encrypted communication, …\n",
    "    * Streaming: content delivery network, (network, computation) load balance,…\n",
    "    * App: data format, protocol,…\n",
    "\n",
    "\n",
    "What do you expect yourself dealing with in the future? Daily operation or business problem?"
   ]
  },
  {
   "cell_type": "markdown",
   "id": "9cc09dc1",
   "metadata": {},
   "source": [
    "# Chapter 1: Introduction\n",
    "#### our goal:\n",
    "- get “feel” and **terminology**\n",
    "- more depth, detail *later* in course\n",
    "- approach: use **Internet** as example\n",
    "\n",
    "#### overview:\n",
    "- what’s the Internet and a protocol?\n",
    "- **network edge**: hosts, access net, physical media\n",
    "- **network core**: packet/circuit switching, Internet structure\n",
    "- performance: loss, delay, throughput\n",
    "- protocol layers, service models\n",
    "- history"
   ]
  },
  {
   "cell_type": "markdown",
   "id": "d11b68d4",
   "metadata": {},
   "source": [
    "# What's the Internet\n",
    "- billions of connected computing devices running **network apps** via different **communication links**.\n",
    "- infrastructure that provides services to applications\n",
    "\n",
    "#### History: Arpanet\n",
    "https://www.amazon.com/Brief-History-Future-Origins-Internet/dp/B005M4STDY\n",
    "#### communication links, packet switches\n",
    "#### ISP, protocols:TCP IP HTTP Skype 802.11(IETF的編號)\n",
    "#### Internet standards: IETF(Internet Engineering Task Force)會匯集產官學界，審核編修RFC(request for comments)(protocol計劃書)\n",
    "#### network structure: network edge, access networks(last mile) , network core"
   ]
  },
  {
   "cell_type": "markdown",
   "id": "a1ff6cf6",
   "metadata": {},
   "source": []
  },
  {
   "cell_type": "markdown",
   "id": "48f69f9b",
   "metadata": {},
   "source": []
  },
  {
   "cell_type": "markdown",
   "id": "097129fd",
   "metadata": {},
   "source": [
    "# Questionnaire\n",
    "1. Is there any other network besides Internet? factory network, satellite network...\n",
    "2. In a non-electronic era,what are the end-host, link, and router? Beacon、Flag semaphore\n",
    "3. example of uni-direction service? walkie talkie\n",
    "4. Why do we need to learn machine protocol?\n",
    "5. What is the difference between client and server?\n",
    "6. Why do we need routers?\n",
    "\n",
    "# Google:\n",
    "1. Arpanet \n",
    "2. Taiwan’s ISP map: https://map.twnic.net.tw/\n",
    "3. Internet vs internet\n",
    "4. Wiki: Internet Protocols\n",
    "5. Phone splitter\n",
    "6. ADSL modem\n",
    "7. VDSL modem\n",
    "8. DSL speed? e.g. 24M/2.5M\n",
    "9. 電信箱"
   ]
  }
 ],
 "metadata": {
  "kernelspec": {
   "display_name": "Python 3",
   "language": "python",
   "name": "python3"
  },
  "language_info": {
   "codemirror_mode": {
    "name": "ipython",
    "version": 3
   },
   "file_extension": ".py",
   "mimetype": "text/x-python",
   "name": "python",
   "nbconvert_exporter": "python",
   "pygments_lexer": "ipython3",
   "version": "3.9.6"
  }
 },
 "nbformat": 4,
 "nbformat_minor": 5
}
