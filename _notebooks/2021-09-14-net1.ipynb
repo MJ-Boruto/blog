{
 "cells": [
  {
   "cell_type": "markdown",
   "id": "085485c6",
   "metadata": {},
   "source": [
    "# Networking Week 1\n",
    "> notes for the Computer Networking course by NCCU MIS\n",
    "- toc: true\n",
    "- comments: true\n",
    "- categories: [fastbook]\n",
    "- image: images/networking.jpg"
   ]
  },
  {
   "cell_type": "markdown",
   "id": "481c9b91",
   "metadata": {},
   "source": [
    "# Why this course?\n",
    "Computer network is an essential **enabling technology** to help users to develop network based applications that can **reach everywhere instantly**.\n",
    "An MIS student (as an architect, and a designer) need to be familiar with **the underlying technologies** and their **design rationale**. Hence, we can develop network applications with **a more appropriate, reasonable, and robust design**.\n",
    "    \n",
    "And more, help your parents to deal with home network problems."
   ]
  },
  {
   "cell_type": "markdown",
   "id": "70ab659c",
   "metadata": {},
   "source": [
    "# Desired Outcomes\n",
    "- They know the most common **design** in the current computer network.\n",
    "- They understand what **hardware** or **software** should be used in a complex computer network.\n",
    "- They can analyze the **performance** of a protocol, both theoretically and experimentally, and recognize the **trade-offs** between different protocol designs.\n",
    "- They can write **socket programs** with network libraries.\n",
    "- They have experience **working with network devices**.\n",
    "- They can **manage** a complex enterprise network.\n",
    "- They can **monitor** the network packet and analyze them.\n",
    "- They can identify **network security problems** and solve them."
   ]
  },
  {
   "cell_type": "markdown",
   "id": "151c26ee",
   "metadata": {},
   "source": [
    "> warning: We will NOT cover any programming details. Homework, assignments, and projects need a certain level of programming skills"
   ]
  },
  {
   "cell_type": "markdown",
   "id": "76efc540",
   "metadata": {},
   "source": [
    "# What can computer network do?\n",
    "Examples: Enterprise network\n",
    "* Daily operation\n",
    "    * PCs, access network, e-mail server, web site, Wi-Fi, VoIP, wireless projector, database server, file server, firewall, (virtual and physical) access control, directory service,…\n",
    "* Business\n",
    "    * Game: PC/App, response time, synchronization, flexible (scaling) server, in-game VoIP, streaming, re-join,…\n",
    "    * Digital currency exchange: total number of users, new user per second, denial of service, encrypted communication, …\n",
    "    * Streaming: content delivery network, (network, computation) load balance,…\n",
    "    * App: data format, protocol,…\n",
    "\n",
    "\n",
    "What do you expect yourself dealing with in the future? Daily operation or business problem?"
   ]
  },
  {
   "cell_type": "markdown",
   "id": "9cc09dc1",
   "metadata": {},
   "source": [
    "# Chapter 1: Introduction\n",
    "our goal:\n",
    "- get “feel” and **terminology**\n",
    "- more depth, detail *later* in course\n",
    "- approach:\n",
    "    - use **Internet** as example\n",
    "\n",
    "overview:\n",
    "- what’s the Internet?\n",
    "- what’s a **protocol**?\n",
    "- **network edge**: hosts, access net, physical media\n",
    "- **network core**: packet/circuit switching, Internet structure\n",
    "- performance: loss, delay, throughput\n",
    "- protocol layers, service models\n",
    "- history\n",
    "\n",
    "> Question: Is there any other network besides Internet? factory network, satellite network..."
   ]
  },
  {
   "cell_type": "markdown",
   "id": "d11b68d4",
   "metadata": {},
   "source": [
    "# What's the Internet\n"
   ]
  }
 ],
 "metadata": {
  "kernelspec": {
   "display_name": "Python 3",
   "language": "python",
   "name": "python3"
  },
  "language_info": {
   "codemirror_mode": {
    "name": "ipython",
    "version": 3
   },
   "file_extension": ".py",
   "mimetype": "text/x-python",
   "name": "python",
   "nbconvert_exporter": "python",
   "pygments_lexer": "ipython3",
   "version": "3.9.6"
  }
 },
 "nbformat": 4,
 "nbformat_minor": 5
}
