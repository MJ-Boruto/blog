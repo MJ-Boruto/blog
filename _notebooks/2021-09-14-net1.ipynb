{
 "cells": [
  {
   "cell_type": "markdown",
   "id": "085485c6",
   "metadata": {},
   "source": [
    "# Computer Networks Ch1\n",
    "> notes for the course by NCCU MIS\n",
    "- toc: true\n",
    "- comments: true\n",
    "- categories: [NCCU, MIS, conputer networks]\n",
    "- image: images/networking.jpg\n",
    "- hide_binder_badge: true"
   ]
  },
  {
   "cell_type": "markdown",
   "id": "481c9b91",
   "metadata": {},
   "source": [
    "# Why this course?\n",
    "Computer network is an essential **enabling technology** to help users to develop network based applications that can **reach everywhere instantly**.\n",
    "An MIS student (as an architect, and a designer) need to be familiar with **the underlying technologies** and their **design rationale**. Hence, we can develop network applications with **a more appropriate, reasonable, and robust design**.\n",
    "    \n",
    "And more, help your parents to deal with home network problems."
   ]
  },
  {
   "cell_type": "markdown",
   "id": "70ab659c",
   "metadata": {},
   "source": [
    "### Desired Outcomes\n",
    "- They know the most common **design** in the current computer network.\n",
    "- They understand what **hardware** or **software** should be used in a complex computer network.\n",
    "- They can analyze the **performance** of a protocol, both theoretically and experimentally.\n",
    "- They can recognize the **trade-offs** between different protocol designs.\n",
    "- They can write **socket programs** with network libraries.\n",
    "- They have experience **working with network devices**.\n",
    "- They can **manage** a complex enterprise network.\n",
    "- They can **monitor** the network packet and analyze them.\n",
    "- They can identify **network security problems** and solve them."
   ]
  },
  {
   "cell_type": "markdown",
   "id": "151c26ee",
   "metadata": {},
   "source": [
    "> warning: We will NOT cover any programming details. Assignments and projects need a certain level of programming skills."
   ]
  },
  {
   "cell_type": "markdown",
   "id": "76efc540",
   "metadata": {},
   "source": [
    "### What can computer network do?\n",
    "#### Examples: Enterprise network\n",
    "* Daily operation\n",
    "    * PCs, access network, e-mail server, web site, Wi-Fi, VoIP, wireless projector, database server, file server, firewall, (virtual and physical) access control, directory service,…\n",
    "* Business\n",
    "    * Game: PC/App, response time, synchronization, flexible (scaling) server, in-game VoIP, streaming, re-join,…\n",
    "    * Digital currency exchange: total number of users, new user per second, denial of service, encrypted communication, …\n",
    "    * Streaming: content delivery network, (network, computation) load balance,…\n",
    "    * App: data format, protocol,…\n",
    "\n",
    "\n",
    "What do you expect yourself dealing with in the future? Daily operation or business problem?"
   ]
  },
  {
   "cell_type": "markdown",
   "id": "9cc09dc1",
   "metadata": {},
   "source": [
    "# Chapter 1: Introduction\n",
    "#### our goal:\n",
    "- get “feel” and **terminology**\n",
    "- more depth, detail *later* in course\n",
    "- approach: use **Internet** as example\n",
    "\n",
    "#### overview:\n",
    "- what’s the Internet and a protocol?\n",
    "- **network edge**: hosts, access net, physical media\n",
    "- **network core**: packet/circuit switching, Internet structure\n",
    "- performance: loss, delay, throughput\n",
    "- protocol layers, service models\n",
    "- history"
   ]
  },
  {
   "cell_type": "markdown",
   "id": "d11b68d4",
   "metadata": {},
   "source": [
    "### What's the Internet\n",
    "- billions of connected devices running **network apps** via different **communication links**.\n",
    "- infrastructure that provides services to applications\n",
    "\n",
    "#### History: Arpanet\n",
    "John Naughton(2000)\n",
    "\n",
    "- communication links, packet switches\n",
    "- ISP, protocols:TCP IP HTTP Skype 802.11(IETF的編號)\n",
    "- Internet standards: IETF(Internet Engineering Task Force)會匯集產官學界，審核編修RFC(request for comments)(protocol計劃書)\n",
    "- network structure: network edge, access networks(last mile) , network core\n",
    "\n",
    "#### Difference between DSL and cable\n",
    "type |   特性    |   線路  |   頻寬  | 價格  |  傳輸方式       | 舉例\n",
    ":----|:----------|:--------|:--------|:-----|:---------------|:---\n",
    "DSL  | 繼承自電話 | 線路獨佔 | 獨享頻寬 | 較高 | point to point | 大樓有一百戶就有一百條電話線\n",
    "cable| 繼承自電視 | 線路共享 | 共用頻寬 | 較低 | broadcast      | 小社區可能只共用一條同軸纜線"
   ]
  },
  {
   "cell_type": "markdown",
   "id": "a1ff6cf6",
   "metadata": {},
   "source": [
    "#### Wireless access networks\n",
    "- via **base station** aka **\"access point\"** (不論行動網路或WiFi)\n",
    "- 但在台灣**基地台**專指裝在頂樓的4G、5G基地台，而AP則專指WiFi用的\n",
    "- Wireless LANs: WiFi6速度現在堪比有線網路了，但唯一無法克服的是光的所有性質：反射、折射、繞射、干涉...\n",
    "\n",
    "#### 頻率高: 穿透建築物能力較強、繞射能力較差、能量較高\n",
    "\n",
    "WiFi實際上是商標的名字，不是指技術(e.g. WiFi6：IEEE 802.11ax)"
   ]
  },
  {
   "cell_type": "markdown",
   "id": "48f69f9b",
   "metadata": {},
   "source": [
    ">Note: a router acts as a server (bank counter), like a post office."
   ]
  },
  {
   "cell_type": "markdown",
   "id": "96b03327",
   "metadata": {},
   "source": []
  },
  {
   "cell_type": "markdown",
   "id": "9a10fe6b",
   "metadata": {},
   "source": []
  },
  {
   "cell_type": "markdown",
   "id": "097129fd",
   "metadata": {},
   "source": [
    "# Questionnaire\n",
    "- Is there any other network besides Internet? factory network, satellite network...\n",
    "- In a non-electronic era,what are the end-host, link, and router? Beacon、Flag semaphore\n",
    "- example of uni-direction service? walkie talkie\n",
    "- Why do we need to learn machine protocol?\n",
    "- What is the difference between client and server?\n",
    "- Why do we need routers?\n",
    "- What is the scenario to use wireless or wired network?\n",
    "- WirelessWAN (wide area network)? Starlink\n",
    "- Why radio frequency is valuable?\n",
    "\n",
    "# Google:\n",
    "- Arpanet\n",
    "- Taiwan’s ISP map: https://map.twnic.net.tw/\n",
    "- Internet vs internet\n",
    "- Wiki: Internet Protocols\n",
    "- Phone splitter\n",
    "- ADSL modem\n",
    "- VDSL modem\n",
    "- DSL speed? 24M/2.5M\n",
    "- 電信箱\n",
    "- Taiwan 4G/5G spectrum; WiFi 4/5/6\n",
    "- RJ45, cross-line\n",
    "- who invent using fiber for data transmission?\n",
    "- Cisco switch 2950/2960; router 3560/3650\n"
   ]
  }
 ],
 "metadata": {
  "kernelspec": {
   "display_name": "Python 3",
   "language": "python",
   "name": "python3"
  },
  "language_info": {
   "codemirror_mode": {
    "name": "ipython",
    "version": 3
   },
   "file_extension": ".py",
   "mimetype": "text/x-python",
   "name": "python",
   "nbconvert_exporter": "python",
   "pygments_lexer": "ipython3",
   "version": "3.9.6"
  }
 },
 "nbformat": 4,
 "nbformat_minor": 5
}
