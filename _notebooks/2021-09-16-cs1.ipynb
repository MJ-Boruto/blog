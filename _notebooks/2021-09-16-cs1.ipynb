{
 "cells": [
  {
   "cell_type": "markdown",
   "id": "085485c6",
   "metadata": {},
   "source": [
    "# Data Science Week 1\n",
    "> notes for the course by NCCU CS\n",
    "- toc: true\n",
    "- comments: true\n",
    "- categories: [NCCU, CS, data science]\n",
    "- image: images/networking.jpg"
   ]
  },
  {
   "cell_type": "markdown",
   "id": "02ff81df",
   "metadata": {},
   "source": [
    "# What is data science?\n",
    "\n",
    "\n",
    "The statistician William S. Cleveland defined data science as an interdisciplenary field larger than statistics itself.\n",
    "- statistics\n",
    "- machine learning\n",
    "- programming / computer science\n",
    "- data engineering\n",
    "- as manageing the process that can transform **hypotheses** and **data** into actionable **predictions**.\n",
    "\n",
    "\n",
    "The data scientist is responsible for:\n",
    "- Data: acquiring the data\n",
    "- Modeling: choosing the modeling technique, writing the code\n",
    "- Evaluation: verifying the results"
   ]
  }
 ],
 "metadata": {
  "kernelspec": {
   "display_name": "Python 3",
   "language": "python",
   "name": "python3"
  },
  "language_info": {
   "codemirror_mode": {
    "name": "ipython",
    "version": 3
   },
   "file_extension": ".py",
   "mimetype": "text/x-python",
   "name": "python",
   "nbconvert_exporter": "python",
   "pygments_lexer": "ipython3",
   "version": "3.9.6"
  }
 },
 "nbformat": 4,
 "nbformat_minor": 5
}
