{
 "cells": [
  {
   "cell_type": "markdown",
   "id": "2de3ae24",
   "metadata": {
    "id": "2de3ae24"
   },
   "source": [
    "# Deep Learning Ch1 Notes\n",
    "> notes for the fast.ai 2020 course\n",
    "- toc: true\n",
    "- comments: true\n",
    "- categories: [fastbook]\n",
    "- image: images/bat.jpg\n",
    "- hide_binder_badge: true"
   ]
  },
  {
   "cell_type": "markdown",
   "id": "93beea9d",
   "metadata": {
    "id": "93beea9d"
   },
   "source": [
    "## What you don't need, to deep learning\n",
    "Myth(don't need)| Truth\n",
    ":---------------|:------\n",
    "Lots of math    | Just high school math is sufficient\n",
    "Lots of data    | We've seen record-breaking results with <50 items of data\n",
    "Lots of expensive computers | You can get what you need for state of the art work for free\n",
    "\n",
    "A lot of world class research projects have come out of the fastai students based on a single GPU, using small data or without a traditional background."
   ]
  },
  {
   "cell_type": "markdown",
   "id": "26129e32",
   "metadata": {
    "id": "26129e32"
   },
   "source": [
    "## Where is deep learning the best known approach?\n",
    "![](../images/AI_the_best.jpg)"
   ]
  },
  {
   "cell_type": "markdown",
   "id": "ec11b4cd",
   "metadata": {
    "id": "ec11b4cd"
   },
   "source": [
    "## Neural Networks: A Brief History\n",
    "\n",
    "##### The Start\n",
    "In 1943, Warren McCulloch and Walter Pitts developed a mathematical model of an artificial neuron.\n",
    "\n",
    "In 1957, Frank Rosenblatt built the first device that actually used these principles, *the Mark I Perceptron* at Cornell. \n",
    "> We are now about to witness the birth of such a machine–-a machine capable of perceiving, recognizing and identifying its surroundings without any human training or control. \n",
    ">\n",
    "> ---- <cite>Frank Rosenblatt</cite>\n",
    "\n",
    "##### The First AI Winter\n",
    "1969, Marvin Minsky adn Seymour Papert wrote a book called *Perceptrons* and pointed out that *a single layer of a NN cannot learn some simple but critical functions (such as XOR) and using multiple layers of the devices would allow these limitations to be addressed*. Unfortunately, only the first of these insights was widely recognized.\n",
    "##### The Second Winter\n",
    "In theory, adding just one extra layer of neurons was enough to allow any mathematical function to be approximated with these neural networks, but in practice such networks were often too big and too slow to be useful. Although researchers showed 30 years ago that to get practical good performance you need to use even more layers of neurons, it is only in the last decade that this principle has been more widely appreciated and applied."
   ]
  },
  {
   "cell_type": "markdown",
   "id": "be9cc79c",
   "metadata": {
    "id": "be9cc79c"
   },
   "source": [
    "## The fast.ai Learning Philosophy\n",
    "![](https://github.com/bollam1214/blog/blob/master/images/bat.jpg?raw=1)"
   ]
  },
  {
   "cell_type": "markdown",
   "id": "a97e6812",
   "metadata": {},
   "source": [
    "##### Projects and Mindset\n",
    "It helps to focus on your hobbies and passions–-setting yourself four or five little projects rather than striving to solve a big, grand problem tends to work better when you're getting started.\n",
    "\n",
    "##### Questionnaire\n",
    "After every chapter there are questionnaire instead of a summory of keynotes. It doesn't matter how many you get right but it just confirms that you haven't missed anything important. If you don't understand something after some time just continue and come back after a few chapters."
   ]
  },
  {
   "cell_type": "markdown",
   "id": "d9f26b92",
   "metadata": {
    "id": "d9f26b92"
   },
   "source": [
    "## The Software: PyTorch, fastai, and Jupyter\n",
    "fastai is built top of PyTorch and these are written in Python and it's the language we will use during this  course. Many people think that fastai is just for beginners and teachers but it's actually using layered API which makes it infinite customizable and practical for every purpose.\n",
    "\n",
    "[Jupyter Notebook](https://jupyter.org/) is coding environment often used by DL people. It's easier to experiment things using Jupyter Notebooks than running Python code in terminal. Linux highly recommended."
   ]
  },
  {
   "cell_type": "code",
   "execution_count": 1,
   "id": "HF_T6fvuvSAt",
   "metadata": {
    "id": "HF_T6fvuvSAt"
   },
   "outputs": [],
   "source": [
    "#hide\n",
    "!pip install -Uqq fastbook\n",
    "import fastbook\n",
    "fastbook.setup_book()"
   ]
  },
  {
   "cell_type": "code",
   "execution_count": 2,
   "id": "SrIX7aWpvTzb",
   "metadata": {
    "id": "SrIX7aWpvTzb"
   },
   "outputs": [],
   "source": [
    "#hide\n",
    "from fastbook import *"
   ]
  },
  {
   "cell_type": "code",
   "execution_count": 3,
   "id": "7e4a5e2c",
   "metadata": {
    "colab": {
     "base_uri": "https://localhost:8080/",
     "height": 199
    },
    "id": "7e4a5e2c",
    "outputId": "10c1e68a-52d2-486d-8417-8e26ab3cd47f",
    "scrolled": true
   },
   "outputs": [
    {
     "name": "stderr",
     "output_type": "stream",
     "text": [
      "/usr/local/lib/python3.7/dist-packages/torch/nn/functional.py:718: UserWarning: Named tensors and all their associated APIs are an experimental feature and subject to change. Please do not use them for anything important until they are released as stable. (Triggered internally at  /pytorch/c10/core/TensorImpl.h:1156.)\n",
      "  return torch.max_pool2d(input, kernel_size, stride, padding, dilation, ceil_mode)\n"
     ]
    },
    {
     "data": {
      "text/html": [
       "<table border=\"1\" class=\"dataframe\">\n",
       "  <thead>\n",
       "    <tr style=\"text-align: left;\">\n",
       "      <th>epoch</th>\n",
       "      <th>train_loss</th>\n",
       "      <th>valid_loss</th>\n",
       "      <th>error_rate</th>\n",
       "      <th>time</th>\n",
       "    </tr>\n",
       "  </thead>\n",
       "  <tbody>\n",
       "    <tr>\n",
       "      <td>0</td>\n",
       "      <td>0.160716</td>\n",
       "      <td>0.019510</td>\n",
       "      <td>0.006089</td>\n",
       "      <td>00:50</td>\n",
       "    </tr>\n",
       "  </tbody>\n",
       "</table>"
      ],
      "text/plain": [
       "<IPython.core.display.HTML object>"
      ]
     },
     "metadata": {
      "tags": []
     },
     "output_type": "display_data"
    },
    {
     "data": {
      "text/html": [
       "<table border=\"1\" class=\"dataframe\">\n",
       "  <thead>\n",
       "    <tr style=\"text-align: left;\">\n",
       "      <th>epoch</th>\n",
       "      <th>train_loss</th>\n",
       "      <th>valid_loss</th>\n",
       "      <th>error_rate</th>\n",
       "      <th>time</th>\n",
       "    </tr>\n",
       "  </thead>\n",
       "  <tbody>\n",
       "    <tr>\n",
       "      <td>0</td>\n",
       "      <td>0.071681</td>\n",
       "      <td>0.011917</td>\n",
       "      <td>0.004060</td>\n",
       "      <td>00:55</td>\n",
       "    </tr>\n",
       "  </tbody>\n",
       "</table>"
      ],
      "text/plain": [
       "<IPython.core.display.HTML object>"
      ]
     },
     "metadata": {
      "tags": []
     },
     "output_type": "display_data"
    }
   ],
   "source": [
    "from fastai.vision.all import *\n",
    "path = untar_data(URLs.PETS)/'images'\n",
    "\n",
    "def is_cat(x): return x[0].isupper()\n",
    "dls = ImageDataLoaders.from_name_func(\n",
    "    path, get_image_files(path), valid_pct=0.2, seed=42,\n",
    "    label_func=is_cat, item_tfms=Resize(224))\n",
    "\n",
    "learn = cnn_learner(dls, resnet34, metrics=error_rate)\n",
    "learn.fine_tune(1)"
   ]
  },
  {
   "cell_type": "markdown",
   "id": "2114d6dc",
   "metadata": {},
   "source": [
    "Above code classifies cat and dog images. This is a deep learning model. Notice that this happened in less than 2 minute."
   ]
  },
  {
   "cell_type": "markdown",
   "id": "8e830e7c",
   "metadata": {
    "id": "8e830e7c"
   },
   "source": [
    "## What Is Machine Learning?\n",
    "*The training of programs developed by allowing a computer to learn from its experience, rather than through manually coding the individual steps.*\n",
    "\n",
    "In 1949, an IBM researcher named Arthur Samuel started working on machine learning. \n",
    "\n",
    "By 1961 his checkers-playing program beat the Connecticut state champion.\n",
    "\n",
    "In his classic 1962 essay \"Artificial Intelligence: A Frontier of Automation\", he wrote:\n",
    "> Suppose we arrange for some automatic means of testing the effectiveness of any current weight assignment in terms of actual performance and provide a mechanism for altering the weight assignment so as to maximize the performance.\n",
    ">\n",
    "> We need not go into the details of such a procedure to see that it could be made entirely automatic and to see that a machine so programmed would \"learn\" from its experience.\n",
    "\n",
    "![](../images/ml.png)\n",
    "\n",
    "**using a model after it's trained looks like:**\n",
    "![](../images/trained.png)\n",
    "\n",
    "##### Limitations Inherent To Machine Learning\n",
    "* A model cannot be created without data.\n",
    "* A model can only learn to operate on the patterns seen in the input data used to train it.\n",
    "* This learning approach only creates predictions, not recommended actions.\n",
    "* It's not enough to just have examples of input data; we need labels for that data too\n",
    "\n",
    "##### Neural Network\n",
    "* *Universal approximation theorem* shows that Neural Network can solve any problem to any level of accuracy, in theory.\n",
    "* In practice, they are often a suitable kind of model, and you can focus your effort on the process of training them—that is, of finding good weight assignments.\n",
    "\n",
    "##### Stochastic Gradient Descent (SGD)\n",
    "* One could imagine that you might need to find a new \"mechanism\" for automatically updating weights for every problem.\n",
    "* a completely general way to update the weights of a neural network, to make it improve at any given task.\n",
    "\n",
    "![](../images/nn.png)\n",
    "* the effectiveness of ... → loss \n",
    "* weight assignment → parameters of Neural Networks\n",
    "* performance → predictions\n",
    "* mechanism for ... → stochastic gradient descent (SGD)\n",
    "* maximize the performance → Minimize the Loss"
   ]
  },
  {
   "cell_type": "markdown",
   "id": "987ed870",
   "metadata": {},
   "source": [
    "## How Our Image Recognizer Works\n",
    "```python\n",
    "from fastai2.vision.all import *\n",
    "```\n",
    "Normally people import only parts they need but this method imports everything. fastai library is designed in a way that this only gives you the parts you need.\n",
    "```python\n",
    "path = untar_data(URLs.PETS)/'images'\n",
    "```\n",
    "This downloads the dataset to computer if not exists.\n",
    "```python \n",
    "def is_cat(x): return x[0].isupper()\n",
    "```\n",
    "This checks if the first character is uppercase because this is how cats are labeled.\n",
    "```python\n",
    "dls = ImageDataLoaders.from_name_func(\n",
    "path, get_image_files(path), valid_pct=0.2, seed=42,\n",
    "label_func=is_cat, item_tfms=Resize(224))\n",
    "```\n",
    "This creates \"data loader\":\n",
    "* *from_name_func*: labels can be extracted using a function applied to the filename\n",
    "* *valid_pct=0.2*: randomly hold out 20% of the data as *validation set*; the remaining 80% is called the *training set*\n",
    "* *seed=42*: sets the random seed to make sure any differences are due to the changes to the model\n",
    "* *item_tfms=Resize(224)*: each item is resized to a 224-pixel square\n",
    "\n",
    "Why 224 pixels? This is the standard size for historical reasons (old pretrained models require this size exactly), but you can pass pretty much anything. If you increase the size, you'll often get a model with better results (since it will be able to focus on more details), but at the price of speed and memory consumption; the opposite is true if you decrease the size.\n",
    "```python\n",
    "learn = cnn_learner(dls, resnet34, metrics=error_rate)\n",
    "```\n",
    "Learner is the thing that learns. \n",
    "* It gets the data loader, architecture (in this case resnet34), and the metric human uses to evaluate it.\n",
    "* *cnn_learner* also has a parameter *pretrained*, which defaults to *True*.\n",
    "\n",
    "Using pretrained models is the most important method we have to allow us to train more accurate models, more quickly, with less data, and less time and money.\n",
    "\n",
    "The `34` in `resnet34` refers to the number of layers in this variant of the architecture (other options are `18`, `50`, `101`, and `152`). Models using architectures with more layers take longer to train, and are more prone to overfitting (i.e. you can't train them for as many epochs before the accuracy on the validation set starts getting worse). On the other hand, when using more data, they can be quite a bit more accurate.\n",
    "```python\n",
    "learn.fine_tune(1)\n",
    "```\n",
    "1. Use one epoch to fit just those parts of the model necessary to get the new random head to work correctly with your dataset.\n",
    "2. Use the number of epochs requested when calling the method to fit the entire model, updating the weights of the later layers (especially the head) faster than the earlier layers (which, as we'll see, generally don't require many changes from the pretrained weights)."
   ]
  },
  {
   "cell_type": "markdown",
   "id": "540b3710",
   "metadata": {
    "id": "540b3710"
   },
   "source": [
    "## Jargon Recap\n",
    "Term  | Meaning\n",
    ":-----|:-------\n",
    "Label | The data that we're trying to predict, such as \"dog\" or \"cat\"\n",
    "Architecture | The _template_ of the model that we're trying to fit; the actual mathematical function that we're passing the input data and parameters to\n",
    "Model | The combination of the architecture with a particular set of parameters\n",
    "Parameters | The values in the model that change what task it can do, and are updated through model training\n",
    "Fit | Update the parameters of the model such that the predictions of the model using the input data match the target labels\n",
    "Train | A synonym for _fit_\n",
    "Pretrained model | A model that has already been trained, generally using a large dataset, and will be fine-tuned\n",
    "Fine-tune | Update a pretrained model for a different task\n",
    "Transfer learning | Using a pretrained model for a task different to what it was originally trained for\n",
    "Epoch | One complete pass through the input data\n",
    "Loss | A measure of how good the model is, chosen to drive training via SGD\n",
    "Metric | A measurement of how good the model is, using the validation set, chosen for human consumption\n",
    "Validation set | A set of data held out from training, used only for measuring how good the model is\n",
    "Training set | The data used for fitting the model; does not include any data from the validation set\n",
    "Overfitting | Training a model in such a way that it _remembers_ specific features of the input data, rather than generalizing well to data not seen during training\n",
    "CNN | Convolutional neural network; a type of neural network that works particularly well for computer vision tasks"
   ]
  },
  {
   "cell_type": "markdown",
   "id": "a1b186ef",
   "metadata": {},
   "source": [
    "##### Classification vs Regression\n",
    "* A classification model is one which attempts to predict a class, or category\n",
    "* A regression model is one which attempts to predict one or more numeric quantities, such as a temperature or a location.\n",
    "\n",
    "##### Metric vs Loss\n",
    "* Loss: a \"measure of performance\" easy for stochastic gradient descent to use\n",
    "* metric: easy for you to understand and close to what you want the model to do"
   ]
  },
  {
   "cell_type": "markdown",
   "id": "6ddc6105",
   "metadata": {},
   "source": [
    "##### Overfitting\n",
    "the single most important and challenging issue when training\n",
    "\n",
    "The risk is that if we train our model badly, instead of learning general lessons it effectively memorizes what it has already seen, and then it will make poor predictions about new images.\n",
    "![](../images/overfitting.png)"
   ]
  },
  {
   "cell_type": "markdown",
   "id": "0d1eb4f2",
   "metadata": {
    "id": "5bf222f5"
   },
   "source": [
    "> Tip: Only Avoid Overfitting When Needed: We often see practitioners using over-fitting avoidance techniques even when they have enough data that they didn't need to do so, ending up with a model that may be less accurate than what they could have achieved."
   ]
  },
  {
   "cell_type": "markdown",
   "id": "cdb15705",
   "metadata": {},
   "source": [
    "## Use Judgment in Defining Test Sets\n",
    "Suppose you want to split the time series data into training and validation sets.\n",
    "![](../images/time_series.png)"
   ]
  },
  {
   "cell_type": "markdown",
   "id": "49bf3865",
   "metadata": {},
   "source": [
    "A random subset is a poor choice\n",
    "![](../images/random.png)"
   ]
  },
  {
   "cell_type": "markdown",
   "id": "cb9043f1",
   "metadata": {},
   "source": [
    "Instead, use the earlier data as your training set (and the later data for the validation set).\n",
    "![](../images/good.png)"
   ]
  },
  {
   "cell_type": "markdown",
   "id": "82d2f0ce",
   "metadata": {},
   "source": [
    "In the Kaggle [distracted driver competition](https://www.kaggle.com/c/state-farm-distracted-driver-detection), the independent variables are pictures of drivers at the wheel of a car, and the dependent variables are categories such as texting, eating, or safely looking ahead.\n",
    "![](../images/driver.png)\n",
    "If you put one of the images in your training set and one in the validation set, your model will have an easy time making a prediction for the one in the validation set, so it will seem to be performing better than it would on new people. Another perspective is that if you used all the people in training your model, your model might be overfitting to particularities of those specific people, and not just learning the states (texting, eating, etc.)."
   ]
  },
  {
   "cell_type": "markdown",
   "id": "d3fb7a2f",
   "metadata": {},
   "source": [
    "> Note: Validation Sets and Test Sets: Just as we hold back the validation data from the training process, we must hold back the test set data even from ourselves."
   ]
  },
  {
   "cell_type": "markdown",
   "id": "52dfca7d",
   "metadata": {
    "id": "52dfca7d"
   },
   "source": [
    "## Before the Next Lesson\n",
    "\n",
    "- Setup all tools\n",
    "- Get comfortable with the notebook, docs, and style of writing Python"
   ]
  }
 ],
 "metadata": {
  "accelerator": "GPU",
  "colab": {
   "name": "2021-07-18-myth.ipynb",
   "provenance": []
  },
  "kernelspec": {
   "display_name": "Python 3",
   "language": "python",
   "name": "python3"
  },
  "language_info": {
   "codemirror_mode": {
    "name": "ipython",
    "version": 3
   },
   "file_extension": ".py",
   "mimetype": "text/x-python",
   "name": "python",
   "nbconvert_exporter": "python",
   "pygments_lexer": "ipython3",
   "version": "3.9.6"
  }
 },
 "nbformat": 4,
 "nbformat_minor": 5
}
