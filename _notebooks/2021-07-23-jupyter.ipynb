{
 "cells": [
  {
   "cell_type": "markdown",
   "id": "6df29866",
   "metadata": {},
   "source": [
    "# Jupyter Notebook Tricks\n",
    "> useful tricks from fast.ai\n",
    "\n",
    "- categories: [jupyter]\n",
    "- image: images/jupyter.png"
   ]
  },
  {
   "cell_type": "markdown",
   "id": "0fb504e7",
   "metadata": {},
   "source": [
    "### Command Mode Shortcuts\n",
    "\n",
    "There are a couple of useful keyboard shortcuts in `Command Mode` that you can leverage to make Jupyter Notebook faster to use. Remember that you can switch back and forth between `Command Mode` and `Edit Mode` with <kbd>Esc</kbd> and <kbd>Enter</kbd>.\n",
    "- <kbd>x</kbd><kbd>c</kbd><kbd>v</kbd>:: cut copy paste\n",
    "- <kbd>h</kbd>:: Show all shortcuts\n",
    "- <kbd>m</kbd>:: Convert cell to Markdown\n",
    "- <kbd>y</kbd>:: Convert cell to Code\n",
    "- <kbd>d</kbd>+<kbd>d</kbd>:: Delete cell\n",
    "- <kbd>z</kbd>:: Undo cell deletion\n",
    "- <kbd>o</kbd>:: Toggle between hide or show output\n",
    "- <kbd>shift</kbd>+<kbd>↑</kbd>/<kbd>↓</kbd>:: Select multiple cells. Once you have selected them you can operate on them like a batch (run, copy, paste etc).\n",
    "- <kbd>shift</kbd>+<kbd>m</kbd>:: Merge selected cells"
   ]
  },
  {
   "cell_type": "markdown",
   "id": "9240222b",
   "metadata": {},
   "source": [
    "### Cell Tricks\n",
    "\n",
    "There are also some tricks that you can code into a cell:\n",
    "\n",
    "- `?function-name`:: Shows the definition and docstring for that function\n",
    "- `??function-name`:: Shows the source code for that function\n",
    "- `doc(function-name)`:: Shows the definition, docstring **and links to the documentation** of the function\n",
    "(only works with fastai library imported)\n",
    "- Shift+Tab (press once):: See which parameters to pass to a function \n",
    "- Shift+Tab (press three times):: Get additional information on the method"
   ]
  },
  {
   "cell_type": "markdown",
   "id": "cb2256d7",
   "metadata": {},
   "source": [
    "### Line Magics\n",
    "\n",
    "Line magics are functions that you can run on cells. They should be at the beginning of a line and take as an argument the rest of the line from where they are called. You call them by placing a '%' sign before the command. The most useful ones are:\n",
    "\n",
    "- `%matplotlib inline`:: Ensures that all matplotlib plots will be plotted in the output cell within the notebook and will be kept in the notebook when saved.\n",
    "\n",
    "This command is always called together at the beginning of every notebook of the fast.ai course.\n",
    "\n",
    "``` python\n",
    "%matplotlib inline\n",
    "```\n",
    "\n",
    "- `%timeit`:: Runs a line ten thousand times and displays the average time it took to run."
   ]
  },
  {
   "cell_type": "code",
   "execution_count": 5,
   "id": "c824b7c7",
   "metadata": {},
   "outputs": [
    {
     "name": "stdout",
     "output_type": "stream",
     "text": [
      "37.6 µs ± 3.71 µs per loop (mean ± std. dev. of 7 runs, 10000 loops each)\n"
     ]
    }
   ],
   "source": [
    "%timeit [i+1 for i in range(1000)]"
   ]
  },
  {
   "cell_type": "markdown",
   "id": "f037314d",
   "metadata": {},
   "source": [
    "`%debug`: Inspects a function which is showing an error using the [Python debugger](https://docs.python.org/3/library/pdb.html). If you type this in a cell just after an error, you will be directed to a console where you can inspect the values of all the variables."
   ]
  }
 ],
 "metadata": {
  "kernelspec": {
   "display_name": "Python 3",
   "language": "python",
   "name": "python3"
  },
  "language_info": {
   "codemirror_mode": {
    "name": "ipython",
    "version": 3
   },
   "file_extension": ".py",
   "mimetype": "text/x-python",
   "name": "python",
   "nbconvert_exporter": "python",
   "pygments_lexer": "ipython3",
   "version": "3.9.6"
  }
 },
 "nbformat": 4,
 "nbformat_minor": 5
}
