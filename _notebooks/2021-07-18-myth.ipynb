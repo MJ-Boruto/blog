{
 "cells": [
  {
   "cell_type": "markdown",
   "id": "8a3622fa",
   "metadata": {},
   "source": [
    "# Note of Lesson 1\n",
    "> a lesson from fastai course\n",
    "\n",
    "- badges: true\n",
    "- comments: true\n",
    "- categories: [fastai course]"
   ]
  },
  {
   "cell_type": "markdown",
   "id": "33fde6f9",
   "metadata": {},
   "source": [
    "## What you don't need, to deep learning\n",
    "Myth(don't need)| Truth\n",
    ":---------------|:------\n",
    "Lots of math    | Just high school math is sufficient\n",
    "Lots of data    | We've seen record-breaking results with <50 items of data\n",
    "Lots of expensive computers | You can get what you need for state of the art work for free"
   ]
  },
  {
   "cell_type": "code",
   "execution_count": null,
   "id": "0953d782",
   "metadata": {},
   "outputs": [],
   "source": []
  }
 ],
 "metadata": {
  "kernelspec": {
   "display_name": "Python 3",
   "language": "python",
   "name": "python3"
  },
  "language_info": {
   "codemirror_mode": {
    "name": "ipython",
    "version": 3
   },
   "file_extension": ".py",
   "mimetype": "text/x-python",
   "name": "python",
   "nbconvert_exporter": "python",
   "pygments_lexer": "ipython3",
   "version": "3.9.6"
  }
 },
 "nbformat": 4,
 "nbformat_minor": 5
}
