{
  "nbformat": 4,
  "nbformat_minor": 5,
  "metadata": {
    "kernelspec": {
      "display_name": "Python 3",
      "language": "python",
      "name": "python3"
    },
    "language_info": {
      "codemirror_mode": {
        "name": "ipython",
        "version": 3
      },
      "file_extension": ".py",
      "mimetype": "text/x-python",
      "name": "python",
      "nbconvert_exporter": "python",
      "pygments_lexer": "ipython3",
      "version": "3.9.6"
    },
    "colab": {
      "name": "2021-07-18-myth.ipynb",
      "provenance": []
    }
  },
  "cells": [
    {
      "cell_type": "markdown",
      "metadata": {
        "id": "8a3622fa"
      },
      "source": [
        "# Note of Lesson 1\n",
        "> a note of fastai course\n",
        "\n",
        "- badges: true\n",
        "- comments: true\n",
        "- categories: [fastai course]"
      ],
      "id": "8a3622fa"
    },
    {
      "cell_type": "markdown",
      "metadata": {
        "id": "33fde6f9"
      },
      "source": [
        "## What you don't need, to deep learning\n",
        "Myth(don't need)| Truth\n",
        ":---------------|:------\n",
        "Lots of math    | Just high school math is sufficient\n",
        "Lots of data    | We've seen record-breaking results with <50 items of data\n",
        "Lots of expensive computers | You can get what you need for state of the art work for free"
      ],
      "id": "33fde6f9"
    },
    {
      "cell_type": "code",
      "metadata": {
        "id": "0953d782"
      },
      "source": [
        ""
      ],
      "id": "0953d782",
      "execution_count": null,
      "outputs": []
    }
  ]
}