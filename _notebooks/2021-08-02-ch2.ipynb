{
 "cells": [
  {
   "cell_type": "markdown",
   "id": "2de3ae24",
   "metadata": {
    "id": "2de3ae24"
   },
   "source": [
    "# Chapter 2 Notes\n",
    "> notes for the fast.ai 2020 course\n",
    "- toc: true\n",
    "- comments: true\n",
    "- categories: [fastbook]\n",
    "- image: images/fastai.png"
   ]
  },
  {
   "cell_type": "markdown",
   "id": "eb3ea077",
   "metadata": {},
   "source": [
    "## "
   ]
  }
 ],
 "metadata": {
  "accelerator": "GPU",
  "colab": {
   "name": "2021-07-18-myth.ipynb",
   "provenance": []
  },
  "kernelspec": {
   "display_name": "Python 3",
   "language": "python",
   "name": "python3"
  },
  "language_info": {
   "codemirror_mode": {
    "name": "ipython",
    "version": 3
   },
   "file_extension": ".py",
   "mimetype": "text/x-python",
   "name": "python",
   "nbconvert_exporter": "python",
   "pygments_lexer": "ipython3",
   "version": "3.9.6"
  }
 },
 "nbformat": 4,
 "nbformat_minor": 5
}
