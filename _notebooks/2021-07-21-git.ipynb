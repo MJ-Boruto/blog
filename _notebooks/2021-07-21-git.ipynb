{
 "cells": [
  {
   "cell_type": "markdown",
   "source": [
    "# Git & GitHub\r\n",
    "> CS50W Lecture 1 Notes\r\n",
    "- badges: true\r\n",
    "- comments: true\r\n",
    "- categories: [Git, CS50W]\r\n",
    "- image: images/git.png\r\n"
   ],
   "metadata": {
    "id": "8a3622fa"
   }
  },
  {
   "cell_type": "markdown",
   "source": [
    "> youtube: https://www.youtube.com/watch?v=NcoBAfJ6l2Q"
   ],
   "metadata": {}
  },
  {
   "cell_type": "markdown",
   "source": [
    "## Summary\r\n",
    "\r\n",
    "Git has given us the ability to keep track of any changes we make to code and to work with other people on it such that we can be working on multiple parts of the same project, and someone else working on the same project can also be working on multiple parts of the same project on different branches."
   ],
   "metadata": {}
  },
  {
   "cell_type": "markdown",
   "source": [
    "## Git bash basoc commands\r\n",
    "    git clone\r\n",
    "    git status\r\n",
    "    git commit -am \"message\" //add all the files in this directory and commit\r\n",
    "    git add\r\n",
    "    git commit -amend (--no-edit) //update the commit\r\n",
    "    git push\r\n",
    "\r\n",
    "    git log\r\n",
    "    git reset\r\n",
    "    git reset --hard <commmit>\r\n",
    "    git reset --hard origin/master\r\n",
    "\r\n",
    "    git pull\r\n",
    "    git merge\r\n",
    "## Merge Conflicts: Get rid of the commit markers and modify the file\r\n",
    "    \r\n",
    "    <<<<<< HEAD (Current Change)\r\n",
    "            <h1>Welcome to my website!!<h1>\r\n",
    "    ======\r\n",
    "            <h1 style=\"color:blue;\">Welcome to my website!<h1>\r\n",
    "    >>>>>> b25e375573ac900ef0630c209eab753e75f2017b (Incoming Change)\r\n",
    "\r\n",
    "to \r\n",
    "\r\n",
    "`<h1 style=\"color:blue;\">Welcome to my website!!<h1>`\r\n",
    "\r\n",
    "and then commit and push again\r\n",
    "    \r\n",
    "## Branching \r\n",
    "    git branch\r\n",
    "    git checkout -b <new branch name>\r\n",
    "    git checkout <branch name>\r\n",
    "\r\n"
   ],
   "metadata": {}
  },
  {
   "cell_type": "markdown",
   "source": [
    "## GitHub Pages\r\n",
    "Repository name: user_name.github.io"
   ],
   "metadata": {}
  },
  {
   "cell_type": "markdown",
   "source": [
    "## Vim\r\n",
    "\r\n",
    "1. You start in “normal mode”\r\n",
    "2. `i` brings you to “insert mode”\r\n",
    "3. `esc` brings you back to “normal mode”\r\n",
    "4. `:x` equals `:wq` (`:w` save / `:q` exit)"
   ],
   "metadata": {}
  }
 ],
 "metadata": {
  "colab": {
   "name": "2021-07-18-myth.ipynb",
   "provenance": []
  },
  "kernelspec": {
   "display_name": "Python 3",
   "language": "python",
   "name": "python3"
  },
  "language_info": {
   "codemirror_mode": {
    "name": "ipython",
    "version": 3
   },
   "file_extension": ".py",
   "mimetype": "text/x-python",
   "name": "python",
   "nbconvert_exporter": "python",
   "pygments_lexer": "ipython3",
   "version": "3.9.6"
  }
 },
 "nbformat": 4,
 "nbformat_minor": 5
}