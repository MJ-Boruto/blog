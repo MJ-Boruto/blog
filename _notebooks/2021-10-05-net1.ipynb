{
 "cells": [
  {
   "cell_type": "markdown",
   "id": "085485c6",
   "metadata": {},
   "source": [
    "# Introduction\n",
    "> Ch1 notes of Computer Networks by NCCU MIS\n",
    "- toc: true\n",
    "- comments: true\n",
    "- categories: [NCCU, MIS, conputer networks]\n",
    "- image: images/networking.jpg\n",
    "- hide_binder_badge: true"
   ]
  },
  {
   "cell_type": "markdown",
   "id": "481c9b91",
   "metadata": {},
   "source": [
    "# Why this course?\n",
    "Computer network is an essential **enabling technology** to help users to develop network based applications that can **reach everywhere instantly**.\n",
    "An MIS student (as an architect, and a designer) need to be familiar with **the underlying technologies** and their **design rationale**. Hence, we can develop network applications with **a more appropriate, reasonable, and robust design**.\n",
    "\n",
    "And more, help your parents to deal with home network problems.\n",
    "\n",
    "### Desired Outcomes\n",
    "- They know the most common **design** in the current computer network.\n",
    "- They understand what **hardware** or **software** should be used in a complex computer network.\n",
    "- They can analyze the **performance** of a protocol, both theoretically and experimentally.\n",
    "- They can recognize the **trade-offs** between different protocol designs.\n",
    "- They can write **socket programs** with network libraries.\n",
    "- They have experience **working with network devices**.\n",
    "- They can **manage** a complex enterprise network.\n",
    "- They can **monitor** the network packet and analyze them.\n",
    "- They can identify **network security problems** and solve them."
   ]
  },
  {
   "cell_type": "markdown",
   "id": "151c26ee",
   "metadata": {},
   "source": [
    "> warning: We will NOT cover any programming details. Assignments and projects need a certain level of programming skills."
   ]
  },
  {
   "cell_type": "markdown",
   "id": "76efc540",
   "metadata": {},
   "source": [
    "### What can computer network do?\n",
    "#### Examples: Enterprise network\n",
    "* Daily operation\n",
    "    * PCs, access network, e-mail server, web site, Wi-Fi, VoIP, wireless projector, database server, file server, firewall, (virtual and physical) access control, directory service,…\n",
    "* Business\n",
    "    * Game: PC/App, response time, synchronization, flexible (scaling) server, in-game VoIP, streaming, re-join,…\n",
    "    * Digital currency exchange: total number of users, new user per second, denial of service, encrypted communication, …\n",
    "    * Streaming: content delivery network, (network, computation) load balance,…\n",
    "    * App: data format, protocol,…\n",
    "\n",
    "\n",
    "What do you expect yourself dealing with in the future? Daily operation or business problem?"
   ]
  },
  {
   "cell_type": "markdown",
   "id": "9cc09dc1",
   "metadata": {},
   "source": [
    "# Chapter 1: Introduction\n",
    "#### our goal:\n",
    "- get “feel” and **terminology**\n",
    "- more depth, detail *later* in course\n",
    "- approach: use **Internet** as example\n",
    "\n",
    "#### overview:\n",
    "- what’s the Internet and a protocol?\n",
    "- **network edge**: hosts, access net, physical media\n",
    "- **network core**: packet/circuit switching, Internet structure\n",
    "- performance: loss, delay, throughput\n",
    "- protocol layers, service models\n",
    "- history"
   ]
  },
  {
   "cell_type": "markdown",
   "id": "d11b68d4",
   "metadata": {},
   "source": [
    "# What's the Internet\n",
    "- billions of connected devices running **network apps** via different **communication links**.\n",
    "- infrastructure that provides services to applications\n",
    "\n",
    "**History: Arpanet**\n",
    "\n",
    "John Naughton(2000)\n",
    "- communication links, packet switches\n",
    "- ISP, protocols:TCP IP HTTP Skype 802.11(IETF的編號)\n",
    "- Internet standards: IETF(Internet Engineering Task Force)會匯集產官學界，審核編修RFC(request for comments)(protocol計劃書)\n",
    "- network structure: network edge, access networks(last mile) , network core\n",
    "\n",
    "### Difference between DSL and cable\n",
    "type |   特性    |   線路  |   頻寬  | 價格  |  傳輸方式       | 舉例\n",
    ":----|:----------|:--------|:--------|:-----|:---------------|:---\n",
    "DSL  | 繼承自電話 | 線路獨佔 | 獨享頻寬 | 較高 | point to point | 大樓有一百戶就有一百條電話線\n",
    "cable| 繼承自電視 | 線路共享 | 共用頻寬 | 較低 | broadcast      | 小社區可能只共用一條同軸纜線\n",
    "\n",
    "### Wireless access networks\n",
    "- via **base station** aka **\"access point\"** (不論行動網路或WiFi)\n",
    "- 但在台灣**基地台**專指裝在頂樓的4G、5G基地台，而AP則專指WiFi用的\n",
    "- Wireless LANs: WiFi6速度現在堪比有線網路了，但唯一無法克服的是光的所有性質：反射、折射、繞射、干涉...\n",
    "\n",
    "頻率高: 穿透建築物能力較強、繞射能力較差、能量較高"
   ]
  },
  {
   "cell_type": "markdown",
   "id": "48f69f9b",
   "metadata": {},
   "source": [
    "> Note: WiFi實際上是商標的名字，不是指技術(e.g. WiFi6：IEEE 802.11ax)"
   ]
  },
  {
   "cell_type": "markdown",
   "id": "96b03327",
   "metadata": {},
   "source": [
    "### FDM vs TDM\n",
    "FM radio stations also use FDM\n",
    "\n",
    "### circuit switching  vs packet switching example:\n",
    "1. link: 1 Mb/s\n",
    "2. user: 100 kb/s when “active”\n",
    "- circuit switching: 10 users\n",
    "- packet switching: if 35 users (N), probability > 10 active at same time is less than .0004\n",
    "\n",
    "### How do loss and delay occur?\n",
    "- packet arrival rate to link (temporarily) exceeds output link capacity\n",
    "- packets queue, wait for turn\n",
    "- the physical laws of reality introduce delay and loss\n",
    "\n",
    "### Four sources of packet delay\n",
    "1. nodal processing delay\n",
    "2. queueing delay\n",
    "3. transmission delay\n",
    "4. propagation delay\n",
    "\n",
    "### “Real” Internet delays, routes\n",
    "Try: tracert www.gogole.com (from NCCU WiFi)"
   ]
  },
  {
   "cell_type": "markdown",
   "id": "9a10fe6b",
   "metadata": {},
   "source": [
    "![tracert.png](../images/tracert.png)"
   ]
  },
  {
   "cell_type": "markdown",
   "id": "d1004095",
   "metadata": {},
   "source": [
    "### Internet protocol stack\n",
    "- L7 application: supporting network applications (message exchanged) *e.g. FTP, SMTP, HTTP*\n",
    "- L4 transport: process-process data transfer (with the help of OS e.g how to recover from package loss) *e.g. TCP, UDP*\n",
    "- L3 network: routing of datagrams from source to destination (end-to-end host) *e.g. IP address, routing protocols* (packet switching\n",
    "- L2 (data) link: data transfer between neighboring network elements (bit) *e.g. Ethernet, 802.111 (WiFi), PPP* (how to define **bits**\n",
    "- L1 physical: bits “on the wire” (media) (how to define **1 bit** - 0 and 1\n",
    "\n",
    "#### L5, L6\n",
    "- L6 presentation: allow applications to interpret meaning of data *e.g. encryption, compression*\n",
    "- L5 session: synchronization, checkpointing, recovery of data exchange\n",
    "- these services, if needed, must be implemented in application layer. **needed?**"
   ]
  },
  {
   "cell_type": "markdown",
   "id": "fabdd3c2",
   "metadata": {},
   "source": [
    "> Note: simple is beauty."
   ]
  },
  {
   "cell_type": "markdown",
   "id": "e97b3bce",
   "metadata": {},
   "source": [
    "### Encapsulation\n",
    "![encapsulation.png](../images/encapsulation.png)"
   ]
  },
  {
   "cell_type": "markdown",
   "id": "edb97969",
   "metadata": {},
   "source": [
    "layer       | data    \n",
    ":-----------|:----------\n",
    "Application | MSG\n",
    "Transport   | Segment\n",
    "Network     | Datagram\n",
    "(Data) Link | Frame\n",
    "Physical    | "
   ]
  },
  {
   "cell_type": "markdown",
   "id": "097129fd",
   "metadata": {},
   "source": [
    "# Questionnaire\n",
    "- Is there any other network besides Internet? factory network, satellite network...\n",
    "- In a non-electronic era,what are the end-host, link, and router? Beacon、Flag semaphore\n",
    "- example of uni-direction service? walkie talkie\n",
    "- Why do we need to learn machine protocol?\n",
    "- What is the difference between client and server?\n",
    "- Why do we need routers?\n",
    "- What is the scenario to use wireless or wired network?\n",
    "- WirelessWAN (wide area network)? Starlink\n",
    "- Why radio frequency is valuable?\n",
    "- circuit vs packet? Pros & Cons.\n",
    "- FDM vs TDM. Pros & cons.What is silent periods? Real-time service?\n",
    "- given millions of access ISPs, how to connect them together?\n",
    "- How to avoid delay? How to provision the buffer size?\n",
    "- What else delay? (carry sense,VoIP packetization, …)\n",
    "\n",
    "# Google:\n",
    "- Arpanet\n",
    "- Taiwan’s ISP map: https://map.twnic.net.tw/\n",
    "- Internet vs internet\n",
    "- Wiki: Internet Protocols\n",
    "- Phone splitter\n",
    "- ADSL modem\n",
    "- VDSL modem\n",
    "- DSL speed? 24M/2.5M\n",
    "- 電信箱\n",
    "- Taiwan 4G/5G spectrum; WiFi 4/5/6\n",
    "- RJ45, cross-line\n",
    "- who invent using fiber for data transmission?\n",
    "- Cisco switch 2950/2960; router 3560/3650\n",
    "- phone switchboard\n",
    "- father of Internet (Leonard Kleinrock?"
   ]
  }
 ],
 "metadata": {
  "kernelspec": {
   "display_name": "Python 3",
   "language": "python",
   "name": "python3"
  },
  "language_info": {
   "codemirror_mode": {
    "name": "ipython",
    "version": 3
   },
   "file_extension": ".py",
   "mimetype": "text/x-python",
   "name": "python",
   "nbconvert_exporter": "python",
   "pygments_lexer": "ipython3",
   "version": "3.9.6"
  }
 },
 "nbformat": 4,
 "nbformat_minor": 5
}
