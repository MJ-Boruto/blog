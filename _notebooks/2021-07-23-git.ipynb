{
 "cells": [
  {
   "cell_type": "markdown",
   "id": "21172fd4",
   "metadata": {
    "id": "8a3622fa"
   },
   "source": [
    "# Git & GitHub\n",
    "> a note of CS50W Lecture 1 \n",
    "\n",
    "- toc: true \n",
    "- badges: true\n",
    "- comments: true\n",
    "- categories: [Git, CS50W]\n",
    "- image: images/git.png\n"
   ]
  },
  {
   "cell_type": "markdown",
   "id": "967ade65",
   "metadata": {},
   "source": [
    "### Git bash commands\n",
    "* git clone\n",
    "* git add\n",
    "* git commit -m \"message\"\n",
    "* git commit -amend"
   ]
  },
  {
   "cell_type": "markdown",
   "id": "eb5905df",
   "metadata": {},
   "source": [
    "### Vim\n",
    "> the default editor of git bash\n",
    "\n",
    "1. You start in “normal mode”\n",
    "2. `i` brings you to “insert mode”\n",
    "3. `esc` brings you back to “normal mode”\n",
    "4. `:x` equals `:wq` (`:w` save / `:q` exit)"
   ]
  },
  {
   "cell_type": "code",
   "execution_count": null,
   "id": "ea7cef80",
   "metadata": {},
   "outputs": [],
   "source": []
  }
 ],
 "metadata": {
  "colab": {
   "name": "2021-07-18-myth.ipynb",
   "provenance": []
  },
  "kernelspec": {
   "display_name": "Python 3",
   "language": "python",
   "name": "python3"
  },
  "language_info": {
   "codemirror_mode": {
    "name": "ipython",
    "version": 3
   },
   "file_extension": ".py",
   "mimetype": "text/x-python",
   "name": "python",
   "nbconvert_exporter": "python",
   "pygments_lexer": "ipython3",
   "version": "3.9.6"
  }
 },
 "nbformat": 4,
 "nbformat_minor": 5
}
