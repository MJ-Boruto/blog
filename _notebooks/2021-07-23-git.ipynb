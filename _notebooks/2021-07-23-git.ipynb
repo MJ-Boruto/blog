{
  "nbformat": 4,
  "nbformat_minor": 5,
  "metadata": {
    "kernelspec": {
      "display_name": "Python 3",
      "language": "python",
      "name": "python3"
    },
    "language_info": {
      "codemirror_mode": {
        "name": "ipython",
        "version": 3
      },
      "file_extension": ".py",
      "mimetype": "text/x-python",
      "name": "python",
      "nbconvert_exporter": "python",
      "pygments_lexer": "ipython3",
      "version": "3.9.6"
    },
    "colab": {
      "name": "2021-07-18-myth.ipynb",
      "provenance": []
    }
  },
  "cells": [
    {
      "cell_type": "markdown",
      "source": [
        "# Git & GitHub\r\n",
        "> a note of CS50W Lecture 1 \r\n",
        "\r\n",
        "- toc: true \r\n",
        "- badges: true\r\n",
        "- comments: true\r\n",
        "- categories: [Git, CS50W]\r\n",
        "- image: images/git.png\r\n"
      ],
      "metadata": {
        "id": "8a3622fa"
      }
    },
    {
      "cell_type": "markdown",
      "source": [
        "Git Bash:\r\n",
        "* git clone\r\n",
        "* git add\r\n"
      ],
      "metadata": {}
    },
    {
      "cell_type": "markdown",
      "source": [],
      "metadata": {}
    }
  ]
}