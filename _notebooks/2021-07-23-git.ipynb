{
 "cells": [
  {
   "cell_type": "markdown",
   "source": [
    "# Git & GitHub\r\n",
    "> a note of CS50W Lecture 1 \r\n",
    "\r\n",
    "- toc: true \r\n",
    "- badges: true\r\n",
    "- comments: true\r\n",
    "- categories: [Git, CS50W]\r\n",
    "- image: images/git.png\r\n"
   ],
   "metadata": {
    "id": "8a3622fa"
   }
  },
  {
   "cell_type": "markdown",
   "source": [
    "### Git bash commands\r\n",
    "* git clone\r\n",
    "* git status\r\n",
    "* git add\r\n",
    "* git commit -m \"message\"\r\n",
    "* git commit -amend (--no-edit)\r\n",
    "* git push"
   ],
   "metadata": {}
  },
  {
   "cell_type": "markdown",
   "source": [
    "### Vim\n",
    "> the default editor of git bash\n",
    "\n",
    "1. You start in “normal mode”\n",
    "2. `i` brings you to “insert mode”\n",
    "3. `esc` brings you back to “normal mode”\n",
    "4. `:x` equals `:wq` (`:w` save / `:q` exit)"
   ],
   "metadata": {}
  }
 ],
 "metadata": {
  "colab": {
   "name": "2021-07-18-myth.ipynb",
   "provenance": []
  },
  "kernelspec": {
   "display_name": "Python 3",
   "language": "python",
   "name": "python3"
  },
  "language_info": {
   "codemirror_mode": {
    "name": "ipython",
    "version": 3
   },
   "file_extension": ".py",
   "mimetype": "text/x-python",
   "name": "python",
   "nbconvert_exporter": "python",
   "pygments_lexer": "ipython3",
   "version": "3.9.6"
  }
 },
 "nbformat": 4,
 "nbformat_minor": 5
}